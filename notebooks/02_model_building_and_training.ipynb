{
 "cells": [
  {
   "cell_type": "code",
   "execution_count": null,
   "metadata": {
    "vscode": {
     "languageId": "plaintext"
    }
   },
   "outputs": [],
   "source": [
    "from sklearn.model_selection import train_test_split\n",
    "from sklearn.ensemble import RandomForestClassifier\n",
    "from sklearn.metrics import classification_report, roc_auc_score\n",
    "import mlflow\n",
    "import mlflow.sklearn\n",
    "\n",
    "# Load preprocessed data\n",
    "fraud_data = pd.read_csv('../data/processed_fraud_data.csv')\n",
    "creditcard_data = pd.read_csv('../data/processed_creditcard_data.csv')\n",
    "\n",
    "# Feature and target separation\n",
    "X_fraud = fraud_data.drop(['user_id', 'signup_time', 'purchase_time', 'ip_address', 'class'], axis=1)\n",
    "y_fraud = fraud_data['class']\n",
    "\n",
    "X_credit = creditcard_data.drop(['Time', 'Class'], axis=1)\n",
    "y_credit = creditcard_data['Class']\n",
    "\n",
    "# Train-test split\n",
    "X_train_fraud, X_test_fraud, y_train_fraud, y_test_fraud = train_test_split(X_fraud, y_fraud, test_size=0.2, random_state=42)\n",
    "X_train_credit, X_test_credit, y_train_credit, y_test_credit = train_test_split(X_credit, y_credit, test_size=0.2, random_state=42)\n",
    "\n",
    "# Model training and evaluation\n",
    "mlflow.start_run()\n",
    "\n",
    "model = RandomForestClassifier(random_state=42)\n",
    "model.fit(X_train_fraud, y_train_fraud)\n",
    "\n",
    "y_pred_fraud = model.predict(X_test_fraud)\n",
    "print(classification_report(y_test_fraud, y_pred_fraud))\n",
    "print(\"ROC AUC Score:\", roc_auc_score(y_test_fraud, y_pred_fraud))\n",
    "\n",
    "# Log metrics and model\n",
    "mlflow.log_metric(\"roc_auc\", roc_auc_score(y_test_fraud, y_pred_fraud))\n",
    "mlflow.sklearn.log_model(model, \"fraud_detection_model\")\n",
    "\n",
    "mlflow.end_run()"
   ]
  }
 ],
 "metadata": {
  "language_info": {
   "name": "python"
  }
 },
 "nbformat": 4,
 "nbformat_minor": 2
}
