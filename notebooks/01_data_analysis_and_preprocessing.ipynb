{
 "cells": [
  {
   "cell_type": "code",
   "execution_count": null,
   "metadata": {
    "vscode": {
     "languageId": "plaintext"
    }
   },
   "outputs": [],
   "source": [
    "print(\"Gashaw\")import pandas as pd\n",
    "import numpy as np\n",
    "\n",
    "# Load datasets\n",
    "fraud_data = pd.read_csv('../data/Fraud_Data.csv')\n",
    "ip_to_country = pd.read_csv('../data/IpAddress_to_Country.csv')\n",
    "creditcard_data = pd.read_csv('../data/creditcard.csv')\n",
    "\n",
    "# Handle missing values\n",
    "fraud_data.dropna(inplace=True)\n",
    "creditcard_data.dropna(inplace=True)\n",
    "\n",
    "# Data cleaning\n",
    "fraud_data.drop_duplicates(inplace=True)\n",
    "creditcard_data.drop_duplicates(inplace=True)\n",
    "\n",
    "# Convert IP addresses to integer format\n",
    "def ip_to_int(ip):\n",
    "    return int(''.join(f'{int(octet):08b}' for octet in ip.split('.')), 2)\n",
    "\n",
    "fraud_data['ip_int'] = fraud_data['ip_address'].apply(ip_to_int)\n",
    "\n",
    "# Merge datasets for geolocation analysis\n",
    "ip_to_country['lower_bound_ip_address'] = ip_to_country['lower_bound_ip_address'].apply(ip_to_int)\n",
    "ip_to_country['upper_bound_ip_address'] = ip_to_country['upper_bound_ip_address'].apply(ip_to_int)\n",
    "\n",
    "fraud_data = pd.merge_asof(fraud_data.sort_values('ip_int'), \n",
    "                           ip_to_country.sort_values('lower_bound_ip_address'), \n",
    "                           left_on='ip_int', \n",
    "                           right_on='lower_bound_ip_address')\n",
    "\n",
    "# Feature engineering\n",
    "fraud_data['hour_of_day'] = pd.to_datetime(fraud_data['purchase_time']).dt.hour\n",
    "fraud_data['day_of_week'] = pd.to_datetime(fraud_data['purchase_time']).dt.dayofweek\n",
    "\n",
    "# Normalization and scaling\n",
    "from sklearn.preprocessing import StandardScaler\n",
    "\n",
    "scaler = StandardScaler()\n",
    "creditcard_data['Amount'] = scaler.fit_transform(creditcard_data[['Amount']])\n",
    "\n",
    "# Encode categorical features\n",
    "fraud_data = pd.get_dummies(fraud_data, columns=['source', 'browser', 'sex'], drop_first=True)\n",
    "\n",
    "# Save preprocessed data\n",
    "fraud_data.to_csv('../data/processed_fraud_data.csv', index=False)\n",
    "creditcard_data.to_csv('../data/processed_creditcard_data.csv', index=False)"
   ]
  }
 ],
 "metadata": {
  "language_info": {
   "name": "python"
  }
 },
 "nbformat": 4,
 "nbformat_minor": 2
}
